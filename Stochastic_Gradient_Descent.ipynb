{
  "nbformat": 4,
  "nbformat_minor": 0,
  "metadata": {
    "colab": {
      "name": "Stochastic Gradient Descent.ipynb",
      "version": "0.3.2",
      "provenance": [],
      "collapsed_sections": [],
      "include_colab_link": true
    },
    "kernelspec": {
      "name": "python3",
      "display_name": "Python 3"
    }
  },
  "cells": [
    {
      "cell_type": "markdown",
      "metadata": {
        "id": "view-in-github",
        "colab_type": "text"
      },
      "source": [
        "<a href=\"https://colab.research.google.com/github/KavinAgrawal/ML-Techniques/blob/master/Stochastic_Gradient_Descent.ipynb\" target=\"_parent\"><img src=\"https://colab.research.google.com/assets/colab-badge.svg\" alt=\"Open In Colab\"/></a>"
      ]
    },
    {
      "cell_type": "code",
      "metadata": {
        "id": "loJS291UcVrt",
        "colab_type": "code",
        "colab": {}
      },
      "source": [
        "import numpy as np\n",
        "import pandas as pd\n",
        "import matplotlib.pyplot as plt\n",
        "from matplotlib.colors import ListedColormap"
      ],
      "execution_count": 0,
      "outputs": []
    },
    {
      "cell_type": "code",
      "metadata": {
        "id": "tNREICqOfD9w",
        "colab_type": "code",
        "colab": {}
      },
      "source": [
        "class SGD:  \n",
        "  def __init__(self,learn_rate,no_iters,rand_state=1):\n",
        "    self.learn_rate = learn_rate\n",
        "    self.no_iters = no_iters\n",
        "    self.rand_state = rand_state\n",
        "    \n",
        "  def fit(self, x, y):\n",
        "    rgen = np.random.RandomState(self.rand_state)\n",
        "    self.w = rgen.normal(loc=0.0, scale=0.01,size=1 + x.shape[1])\n",
        "#   self.w = np.random.normal(loc=0.0, scale=0.01, size=1+x.shape[1])\n",
        "    self.cost = []\n",
        "    for i in range(self.no_iters):\n",
        "      #Shuffle data\n",
        "      idx = rgen.permutation(len(y))\n",
        "      X,Y = x[idx], y[idx]\n",
        "      \n",
        "      cost=[]\n",
        "      for xi,target in zip(X,Y):\n",
        "        error =target-self.act_in_out(xi)\n",
        "        self.w[1:]+=self.learn_rate*error*xi\n",
        "        self.w[0]+=self.learn_rate*error*1\n",
        "        cost.append((1/2.0)*((target-self.act_in_out(xi))**2))\n",
        "      avg_cost=np.sum(cost)/len(y)\n",
        "      \n",
        "      self.cost.append(avg_cost)\n",
        "    return self \n",
        "  \n",
        "  def act_in_out(self, X):\n",
        "    return np.dot(X, self.w[1:]) + self.w[0]\n",
        "     \n",
        "  def predict(self,x): # While the linear activation function is used for learning the weights, we still use a threshold function to make the final prediction,\n",
        "    return np.where(self.act_in_out(x)>=0.0,1,-1)\n",
        "  \n"
      ],
      "execution_count": 0,
      "outputs": []
    },
    {
      "cell_type": "code",
      "metadata": {
        "id": "DL6weJxffwTj",
        "colab_type": "code",
        "outputId": "06d126dc-e1a9-4786-9061-74e8846753db",
        "colab": {
          "base_uri": "https://localhost:8080/",
          "height": 204
        }
      },
      "source": [
        "df = pd.read_csv('https://archive.ics.uci.edu/ml/machine-learning-databases/iris/iris.data',header=None)\n",
        "df.tail() #tail method more useful because it also shows the final no of columns"
      ],
      "execution_count": 0,
      "outputs": [
        {
          "output_type": "execute_result",
          "data": {
            "text/html": [
              "<div>\n",
              "<style scoped>\n",
              "    .dataframe tbody tr th:only-of-type {\n",
              "        vertical-align: middle;\n",
              "    }\n",
              "\n",
              "    .dataframe tbody tr th {\n",
              "        vertical-align: top;\n",
              "    }\n",
              "\n",
              "    .dataframe thead th {\n",
              "        text-align: right;\n",
              "    }\n",
              "</style>\n",
              "<table border=\"1\" class=\"dataframe\">\n",
              "  <thead>\n",
              "    <tr style=\"text-align: right;\">\n",
              "      <th></th>\n",
              "      <th>0</th>\n",
              "      <th>1</th>\n",
              "      <th>2</th>\n",
              "      <th>3</th>\n",
              "      <th>4</th>\n",
              "    </tr>\n",
              "  </thead>\n",
              "  <tbody>\n",
              "    <tr>\n",
              "      <th>145</th>\n",
              "      <td>6.7</td>\n",
              "      <td>3.0</td>\n",
              "      <td>5.2</td>\n",
              "      <td>2.3</td>\n",
              "      <td>Iris-virginica</td>\n",
              "    </tr>\n",
              "    <tr>\n",
              "      <th>146</th>\n",
              "      <td>6.3</td>\n",
              "      <td>2.5</td>\n",
              "      <td>5.0</td>\n",
              "      <td>1.9</td>\n",
              "      <td>Iris-virginica</td>\n",
              "    </tr>\n",
              "    <tr>\n",
              "      <th>147</th>\n",
              "      <td>6.5</td>\n",
              "      <td>3.0</td>\n",
              "      <td>5.2</td>\n",
              "      <td>2.0</td>\n",
              "      <td>Iris-virginica</td>\n",
              "    </tr>\n",
              "    <tr>\n",
              "      <th>148</th>\n",
              "      <td>6.2</td>\n",
              "      <td>3.4</td>\n",
              "      <td>5.4</td>\n",
              "      <td>2.3</td>\n",
              "      <td>Iris-virginica</td>\n",
              "    </tr>\n",
              "    <tr>\n",
              "      <th>149</th>\n",
              "      <td>5.9</td>\n",
              "      <td>3.0</td>\n",
              "      <td>5.1</td>\n",
              "      <td>1.8</td>\n",
              "      <td>Iris-virginica</td>\n",
              "    </tr>\n",
              "  </tbody>\n",
              "</table>\n",
              "</div>"
            ],
            "text/plain": [
              "       0    1    2    3               4\n",
              "145  6.7  3.0  5.2  2.3  Iris-virginica\n",
              "146  6.3  2.5  5.0  1.9  Iris-virginica\n",
              "147  6.5  3.0  5.2  2.0  Iris-virginica\n",
              "148  6.2  3.4  5.4  2.3  Iris-virginica\n",
              "149  5.9  3.0  5.1  1.8  Iris-virginica"
            ]
          },
          "metadata": {
            "tags": []
          },
          "execution_count": 61
        }
      ]
    },
    {
      "cell_type": "code",
      "metadata": {
        "id": "kwfP2IjBfwyB",
        "colab_type": "code",
        "colab": {}
      },
      "source": [
        "y = df.iloc[0:100,4].values\n",
        "y = np.where(y=='Iris-setosa',1,-1)\n",
        "x = df.iloc[0:100, [0, 2]].values\n",
        "\n",
        "x_test=df.iloc[100:150,[0,2]].values\n",
        "y_test=df.iloc[100:150,4].values\n",
        "y_test=np.where(y_test=='Iris-setosa',1,-1)"
      ],
      "execution_count": 0,
      "outputs": []
    },
    {
      "cell_type": "code",
      "metadata": {
        "id": "IQ14yhKVc8fJ",
        "colab_type": "code",
        "outputId": "5a1d5ba9-61ab-4ad0-ac90-89198ceceeeb",
        "colab": {
          "base_uri": "https://localhost:8080/",
          "height": 312
        }
      },
      "source": [
        "#Normalization and modelling\n",
        "x_norm = np.copy(x)\n",
        "x_norm[0:,0] = (x_norm[0:,0] - x_norm[0:,0].mean())/x_norm[0:,0].std()\n",
        "x_norm[0:,1] = (x_norm[0:,1] - x_norm[0:,1].mean())/x_norm[0:,1].std()\n",
        "x_norm\n",
        "\n",
        "\n",
        "model=SGD(no_iters=15, learn_rate=0.01).fit(x_norm, y)\n",
        "plt.plot(range(1, len(model.cost) + 1), model.cost, marker='o')\n",
        "plt.xlabel('Epochs')\n",
        "plt.ylabel('log(Sum-squared-error)')\n",
        "plt.title('Stochastic Gradient Descent - Learning Rate 0.01')"
      ],
      "execution_count": 0,
      "outputs": [
        {
          "output_type": "execute_result",
          "data": {
            "text/plain": [
              "Text(0.5, 1.0, 'Stochastic Gradient Descent - Learning Rate 0.01')"
            ]
          },
          "metadata": {
            "tags": []
          },
          "execution_count": 63
        },
        {
          "output_type": "display_data",
          "data": {
            "image/png": "[encoded data removed]",
            "text/plain": [
              "<Figure size 432x288 with 1 Axes>"
            ]
          },
          "metadata": {
            "tags": []
          }
        }
      ]
    },
    {
      "cell_type": "code",
      "metadata": {
        "colab_type": "code",
        "id": "DnBRxX7lVzaL",
        "colab": {}
      },
      "source": [
        "def plot_decision_regions(X, y, classifier, resolution=0.02):\n",
        "  markers = ('s', 'x', 'o', '^', 'v')\n",
        "  colors = ('red', 'blue', 'lightgreen', 'gray', 'cyan')\n",
        "  cmap = ListedColormap(colors[:len(np.unique(y))])\n",
        "  \n",
        "  x1_min, x1_max = X[:, 0].min() - 1, X[:, 0].max() + 1\n",
        "  x2_min, x2_max = X[:, 1].min() - 1, X[:, 1].max() + 1\n",
        "  xx1, xx2 = np.meshgrid(np.arange(x1_min, x1_max, resolution),\n",
        "  np.arange(x2_min, x2_max, resolution))\n",
        "  Z = classifier.predict(np.array([xx1.ravel(), xx2.ravel()]).T)\n",
        "  Z = Z.reshape(xx1.shape)\n",
        "  \n",
        "  plt.contourf(xx1, xx2, Z, alpha=0.3, cmap=cmap)\n",
        "  plt.xlim(xx1.min(), xx1.max())\n",
        "  plt.ylim(xx2.min(), xx2.max())\n",
        "\n",
        "  for idx, cl in enumerate(np.unique(y)):\n",
        "    plt.scatter(x=X[y == cl, 0],y=X[y == cl, 1],alpha=0.8,c=colors[idx],marker=markers[idx],label=cl,edgecolor='black')"
      ],
      "execution_count": 0,
      "outputs": []
    },
    {
      "cell_type": "code",
      "metadata": {
        "id": "-YTpJA0TWDlX",
        "colab_type": "code",
        "outputId": "43ce924c-5a8d-469d-c021-f139fc1cebb3",
        "colab": {
          "base_uri": "https://localhost:8080/",
          "height": 283
        }
      },
      "source": [
        "plot_decision_regions(x_norm, y, classifier=model)\n",
        "plt.xlabel('sepal length [cm]')\n",
        "plt.ylabel('petal length [cm]')\n",
        "plt.legend(loc='upper left')\n",
        "plt.show()"
      ],
      "execution_count": 0,
      "outputs": [
        {
          "output_type": "display_data",
          "data": {
            "image/png": "[encoded data removed]",
            "text/plain": [
              "<Figure size 432x288 with 1 Axes>"
            ]
          },
          "metadata": {
            "tags": []
          }
        }
      ]
    }
  ]
}