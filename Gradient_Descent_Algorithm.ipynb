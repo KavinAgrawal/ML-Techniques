{
  "nbformat": 4,
  "nbformat_minor": 0,
  "metadata": {
    "colab": {
      "name": "Gradient Descent Algorithm.ipynb",
      "version": "0.3.2",
      "provenance": [],
      "collapsed_sections": [],
      "include_colab_link": true
    },
    "kernelspec": {
      "name": "python3",
      "display_name": "Python 3"
    }
  },
  "cells": [
    {
      "cell_type": "markdown",
      "metadata": {
        "id": "view-in-github",
        "colab_type": "text"
      },
      "source": [
        "<a href=\"https://colab.research.google.com/github/KavinAgrawal/ML-Techniques/blob/master/Gradient_Descent_Algorithm.ipynb\" target=\"_parent\"><img src=\"https://colab.research.google.com/assets/colab-badge.svg\" alt=\"Open In Colab\"/></a>"
      ]
    },
    {
      "cell_type": "code",
      "metadata": {
        "colab_type": "code",
        "id": "u9FZtyJwx8EI",
        "colab": {}
      },
      "source": [
        "import numpy as np\n",
        "import pandas as pd\n",
        "import matplotlib.pyplot as plt\n",
        "from matplotlib.colors import ListedColormap"
      ],
      "execution_count": 0,
      "outputs": []
    },
    {
      "cell_type": "code",
      "metadata": {
        "colab_type": "code",
        "id": "GyuLAOlix8EG",
        "colab": {}
      },
      "source": [
        "class Gd_dsnt:\n",
        "  \n",
        "  def __init__(self,learn_rate,no_iters,rand_state=1):\n",
        "    self.learn_rate = learn_rate\n",
        "    self.no_iters = no_iters\n",
        "    self.rand_state = rand_state\n",
        "    \n",
        "  def fit(self, x, y):\n",
        "    rgen = np.random.RandomState(self.rand_state)\n",
        "    self.w = rgen.normal(loc=0.0, scale=0.01,size=1 + x.shape[1])\n",
        "#     self.w = np.random.normal(loc=0.0, scale=0.01, size=1+x.shape[1])\n",
        "    self.cost = []\n",
        "    for i in range(self.no_iters):\n",
        "      cost=0\n",
        "      error =y-self.act_in_out(x)\n",
        "      self.w[1:]+=self.learn_rate*np.dot(x.T,error)\n",
        "      self.w[0]+=self.learn_rate*np.sum(error)\n",
        "      cost=(1/2.0)*(np.sum(error**2))\n",
        "      self.cost.append(cost)\n",
        "    return self \n",
        "  \n",
        "  def act_in_out(self, X):\n",
        "    return np.dot(X, self.w[1:]) + self.w[0]\n",
        "     \n",
        "  def predict(self,x): # While the linear activation function is used for learning the weights, we still use a threshold function to make the final prediction,\n",
        "    return np.where(self.act_in_out(x)>=0.0,1,-1)\n",
        "  \n"
      ],
      "execution_count": 0,
      "outputs": []
    },
    {
      "cell_type": "code",
      "metadata": {
        "colab_type": "code",
        "id": "nX3-4uM_x8D_",
        "outputId": "3e8a26a0-7ce6-448e-a0ae-c364b83290fd",
        "colab": {
          "base_uri": "https://localhost:8080/",
          "height": 204
        }
      },
      "source": [
        "df = pd.read_csv('https://archive.ics.uci.edu/ml/machine-learning-databases/iris/iris.data',header=None)\n",
        "df.tail() #tail method more useful because it also shows the final no of columns"
      ],
      "execution_count": 0,
      "outputs": [
        {
          "output_type": "execute_result",
          "data": {
            "text/html": [
              "<div>\n",
              "<style scoped>\n",
              "    .dataframe tbody tr th:only-of-type {\n",
              "        vertical-align: middle;\n",
              "    }\n",
              "\n",
              "    .dataframe tbody tr th {\n",
              "        vertical-align: top;\n",
              "    }\n",
              "\n",
              "    .dataframe thead th {\n",
              "        text-align: right;\n",
              "    }\n",
              "</style>\n",
              "<table border=\"1\" class=\"dataframe\">\n",
              "  <thead>\n",
              "    <tr style=\"text-align: right;\">\n",
              "      <th></th>\n",
              "      <th>0</th>\n",
              "      <th>1</th>\n",
              "      <th>2</th>\n",
              "      <th>3</th>\n",
              "      <th>4</th>\n",
              "    </tr>\n",
              "  </thead>\n",
              "  <tbody>\n",
              "    <tr>\n",
              "      <th>145</th>\n",
              "      <td>6.7</td>\n",
              "      <td>3.0</td>\n",
              "      <td>5.2</td>\n",
              "      <td>2.3</td>\n",
              "      <td>Iris-virginica</td>\n",
              "    </tr>\n",
              "    <tr>\n",
              "      <th>146</th>\n",
              "      <td>6.3</td>\n",
              "      <td>2.5</td>\n",
              "      <td>5.0</td>\n",
              "      <td>1.9</td>\n",
              "      <td>Iris-virginica</td>\n",
              "    </tr>\n",
              "    <tr>\n",
              "      <th>147</th>\n",
              "      <td>6.5</td>\n",
              "      <td>3.0</td>\n",
              "      <td>5.2</td>\n",
              "      <td>2.0</td>\n",
              "      <td>Iris-virginica</td>\n",
              "    </tr>\n",
              "    <tr>\n",
              "      <th>148</th>\n",
              "      <td>6.2</td>\n",
              "      <td>3.4</td>\n",
              "      <td>5.4</td>\n",
              "      <td>2.3</td>\n",
              "      <td>Iris-virginica</td>\n",
              "    </tr>\n",
              "    <tr>\n",
              "      <th>149</th>\n",
              "      <td>5.9</td>\n",
              "      <td>3.0</td>\n",
              "      <td>5.1</td>\n",
              "      <td>1.8</td>\n",
              "      <td>Iris-virginica</td>\n",
              "    </tr>\n",
              "  </tbody>\n",
              "</table>\n",
              "</div>"
            ],
            "text/plain": [
              "       0    1    2    3               4\n",
              "145  6.7  3.0  5.2  2.3  Iris-virginica\n",
              "146  6.3  2.5  5.0  1.9  Iris-virginica\n",
              "147  6.5  3.0  5.2  2.0  Iris-virginica\n",
              "148  6.2  3.4  5.4  2.3  Iris-virginica\n",
              "149  5.9  3.0  5.1  1.8  Iris-virginica"
            ]
          },
          "metadata": {
            "tags": []
          },
          "execution_count": 6
        }
      ]
    },
    {
      "cell_type": "code",
      "metadata": {
        "colab_type": "code",
        "id": "cIkJKXrfx8D4",
        "colab": {}
      },
      "source": [
        "y = df.iloc[0:100,4].values\n",
        "y = np.where(y=='Iris-setosa',1,-1)\n",
        "x = df.iloc[0:100, [0, 2]].values\n",
        "\n",
        "x_test=df.iloc[100:150,[0,2]].values\n",
        "y_test=df.iloc[100:150,4].values\n",
        "y_test=np.where(y_test=='Iris-setosa',1,-1)"
      ],
      "execution_count": 0,
      "outputs": []
    },
    {
      "cell_type": "code",
      "metadata": {
        "colab_type": "code",
        "id": "8exz2dY1x8Dq",
        "outputId": "3efb9d5a-5f41-48dc-f6ce-e9d44284f34d",
        "colab": {
          "base_uri": "https://localhost:8080/",
          "height": 314
        }
      },
      "source": [
        "#High Learn Rate\n",
        "model1=Gd_dsnt(no_iters=10, learn_rate=0.01).fit(x, y)\n",
        "plt.plot(range(1, len(model1.cost) + 1), np.log10(model1.cost), marker='o')\n",
        "plt.xlabel('Epochs')\n",
        "plt.ylabel('log(Sum-squared-error)')\n",
        "plt.title('Gradient Descent - Learning Rate 0.01')"
      ],
      "execution_count": 0,
      "outputs": [
        {
          "output_type": "execute_result",
          "data": {
            "text/plain": [
              "Text(0.5, 1.0, 'Gradient Descent - Learning Rate 0.01')"
            ]
          },
          "metadata": {
            "tags": []
          },
          "execution_count": 8
        },
        {
          "output_type": "display_data",
          "data": {
            "image/png": "[encoded data removed]",
            "text/plain": [
              "<Figure size 432x288 with 1 Axes>"
            ]
          },
          "metadata": {
            "tags": []
          }
        }
      ]
    },
    {
      "cell_type": "code",
      "metadata": {
        "colab_type": "code",
        "id": "GGi08nB1x8DX",
        "outputId": "2ce7ef80-5c6b-4380-ddb8-ac3b60dcbb02",
        "colab": {
          "base_uri": "https://localhost:8080/",
          "height": 314
        }
      },
      "source": [
        "#Low Learn Rate\n",
        "model2=Gd_dsnt(no_iters=10, learn_rate=0.0001).fit(x, y)\n",
        "plt.plot(range(1, len(model2.cost) + 1), model2.cost, marker='o')\n",
        "plt.xlabel('Epochs')\n",
        "plt.ylabel('log(Sum-squared-error)')\n",
        "plt.title('Gradient Descent - Learning Rate 0.0001')"
      ],
      "execution_count": 0,
      "outputs": [
        {
          "output_type": "execute_result",
          "data": {
            "text/plain": [
              "Text(0.5, 1.0, 'Gradient Descent - Learning Rate 0.0001')"
            ]
          },
          "metadata": {
            "tags": []
          },
          "execution_count": 9
        },
        {
          "output_type": "display_data",
          "data": {
            "image/png": "[encoded data removed]",
            "text/plain": [
              "<Figure size 432x288 with 1 Axes>"
            ]
          },
          "metadata": {
            "tags": []
          }
        }
      ]
    },
    {
      "cell_type": "code",
      "metadata": {
        "id": "1aKKR34gwaAc",
        "colab_type": "code",
        "outputId": "ed12b37d-218a-4270-a9a2-c1cbc384976b",
        "colab": {
          "base_uri": "https://localhost:8080/",
          "height": 314
        }
      },
      "source": [
        "#Normalization and modelling\n",
        "x_norm = np.copy(x)\n",
        "x_norm[0:,0] = (x_norm[0:,0] - x_norm[0:,0].mean())/x_norm[0:,0].std()\n",
        "x_norm[0:,1] = (x_norm[0:,1] - x_norm[0:,1].mean())/x_norm[0:,1].std()\n",
        "x_norm\n",
        "\n",
        "\n",
        "model3=Gd_dsnt(no_iters=10, learn_rate=0.01).fit(x_norm, y)\n",
        "plt.plot(range(1, len(model3.cost) + 1), model3.cost, marker='o')\n",
        "plt.xlabel('Epochs')\n",
        "plt.ylabel('log(Sum-squared-error)')\n",
        "plt.title('Gradient Descent - Learning Rate 0.01')"
      ],
      "execution_count": 0,
      "outputs": [
        {
          "output_type": "execute_result",
          "data": {
            "text/plain": [
              "Text(0.5, 1.0, 'Gradient Descent - Learning Rate 0.01')"
            ]
          },
          "metadata": {
            "tags": []
          },
          "execution_count": 14
        },
        {
          "output_type": "display_data",
          "data": {
            "image/png": "[encoded data removed]",
            "text/plain": [
              "<Figure size 432x288 with 1 Axes>"
            ]
          },
          "metadata": {
            "tags": []
          }
        }
      ]
    },
    {
      "cell_type": "code",
      "metadata": {
        "colab_type": "code",
        "id": "DnBRxX7lVzaL",
        "colab": {}
      },
      "source": [
        "def plot_decision_regions(X, y, classifier, resolution=0.02):\n",
        "  markers = ('s', 'x', 'o', '^', 'v')\n",
        "  colors = ('red', 'blue', 'lightgreen', 'gray', 'cyan')\n",
        "  cmap = ListedColormap(colors[:len(np.unique(y))])\n",
        "  \n",
        "  x1_min, x1_max = X[:, 0].min() - 1, X[:, 0].max() + 1\n",
        "  x2_min, x2_max = X[:, 1].min() - 1, X[:, 1].max() + 1\n",
        "  xx1, xx2 = np.meshgrid(np.arange(x1_min, x1_max, resolution),\n",
        "  np.arange(x2_min, x2_max, resolution))\n",
        "  Z = classifier.predict(np.array([xx1.ravel(), xx2.ravel()]).T)\n",
        "  Z = Z.reshape(xx1.shape)\n",
        "  \n",
        "  plt.contourf(xx1, xx2, Z, alpha=0.3, cmap=cmap)\n",
        "  plt.xlim(xx1.min(), xx1.max())\n",
        "  plt.ylim(xx2.min(), xx2.max())\n",
        "\n",
        "  for idx, cl in enumerate(np.unique(y)):\n",
        "    plt.scatter(x=X[y == cl, 0],y=X[y == cl, 1],alpha=0.8,c=colors[idx],marker=markers[idx],label=cl,edgecolor='black')"
      ],
      "execution_count": 0,
      "outputs": []
    },
    {
      "cell_type": "code",
      "metadata": {
        "id": "-YTpJA0TWDlX",
        "colab_type": "code",
        "outputId": "f63fe8ac-8f8d-4800-d440-f54562ef4c94",
        "colab": {
          "base_uri": "https://localhost:8080/",
          "height": 283
        }
      },
      "source": [
        "plot_decision_regions(x_norm, y, classifier=model3)\n",
        "plt.xlabel('sepal length [cm]')\n",
        "plt.ylabel('petal length [cm]')\n",
        "plt.legend(loc='upper left')\n",
        "plt.show()"
      ],
      "execution_count": 0,
      "outputs": [
        {
          "output_type": "display_data",
          "data": {
            "image/png": "[encoded data removed]",
            "text/plain": [
              "<Figure size 432x288 with 1 Axes>"
            ]
          },
          "metadata": {
            "tags": []
          }
        }
      ]
    },
    {
      "cell_type": "code",
      "metadata": {
        "id": "x8draBC3FH0a",
        "colab_type": "code",
        "colab": {}
      },
      "source": [
        ""
      ],
      "execution_count": 0,
      "outputs": []
    }
  ]
}